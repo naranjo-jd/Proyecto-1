{
 "cells": [
  {
   "cell_type": "markdown",
   "metadata": {},
   "source": [
    "# <p style=\"text-align: center;\"><b>K-Means Clustering</b></p>\n",
    "\n",
    "## Introducción a K-Means Clustering\n",
    "\n",
    "### ¿Qué es K-Means?\n",
    "\n",
    "**K-Means** es un algoritmo de **aprendizaje no supervisado** utilizado para agrupar datos en **\\( k \\)** conjuntos o clusters. Su objetivo es minimizar la variabilidad dentro de cada cluster, asegurando que los puntos dentro de un grupo sean lo más similares posible.\n",
    "\n",
    "---\n",
    "\n",
    "### ¿Cómo funciona K-Means?\n",
    "\n",
    "El algoritmo sigue estos pasos iterativos:\n",
    "\n",
    "1. **Inicialización:**  \n",
    "   - Se eligen aleatoriamente \\( k \\) centroides dentro del espacio de datos.  \n",
    "\n",
    "2. **Asignación de puntos:**  \n",
    "   - Cada punto se asigna al **centroide más cercano** (según una métrica de distancia, como la euclidiana).  \n",
    "\n",
    "3. **Recalculación de centroides:**  \n",
    "   - Se actualizan los centroides tomando el **promedio de todos los puntos** asignados a cada cluster.  \n",
    "\n",
    "4. **Repetición:**  \n",
    "   - Se repiten los pasos 2 y 3 hasta que los centroides dejan de cambiar significativamente o se alcanza un número máximo de iteraciones.  \n",
    "\n",
    "---\n"
   ]
  },
  {
   "cell_type": "code",
   "execution_count": null,
   "metadata": {},
   "outputs": [],
   "source": []
  },
  {
   "cell_type": "code",
   "execution_count": null,
   "metadata": {},
   "outputs": [],
   "source": []
  }
 ],
 "metadata": {
  "language_info": {
   "name": "python"
  }
 },
 "nbformat": 4,
 "nbformat_minor": 2
}
